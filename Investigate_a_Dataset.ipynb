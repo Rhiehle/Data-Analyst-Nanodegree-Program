{
 "cells": [
  {
   "cell_type": "markdown",
   "metadata": {},
   "source": [
    "\n",
    "# Project: No show appointments \n",
    "\n",
    "## Table of Contents\n",
    "<ul>\n",
    "<li><a href=\"#intro\">Introduction</a></li>\n",
    "<li><a href=\"#wrangling\">Data Wrangling</a></li>\n",
    "<li><a href=\"#eda\">Exploratory Data Analysis</a></li>\n",
    "<li><a href=\"#conclusions\">Conclusions</a></li>\n",
    "</ul>"
   ]
  },
  {
   "cell_type": "markdown",
   "metadata": {},
   "source": [
    "<a id='intro'></a>\n",
    "## Introduction\n",
    "\n",
    "    Data Set: A break down of No-Show appointments. A data set of 110,000 medical appointments in Brazil. The data is focused around whether or not the patient shows up for the appointment \n",
    "    \n",
    "    Key information:\n",
    "    Age: Of the patient\n",
    "    Scholarship: indicated if the patient is ont he Brazilian welfare program.\n",
    "    No-Show: did they show up for their appointment\n",
    "    Sms received: did the patient get a sms message before the appointment "
   ]
  },
  {
   "cell_type": "code",
   "execution_count": 61,
   "metadata": {},
   "outputs": [],
   "source": [
    "import numpy as np\n",
    "import pandas as pd\n",
    "import matplotlib.pyplot as plt\n",
    "import seaborn as sns\n",
    "from decimal import Decimal\n"
   ]
  },
  {
   "cell_type": "markdown",
   "metadata": {},
   "source": [
    "<a id='wrangling'></a>\n",
    "## Data Wrangling\n",
    "\n",
    "\n",
    "\n",
    "\n",
    "### General Properties"
   ]
  },
  {
   "cell_type": "markdown",
   "metadata": {},
   "source": [
    "Import and review the data "
   ]
  },
  {
   "cell_type": "code",
   "execution_count": 62,
   "metadata": {},
   "outputs": [
    {
     "name": "stdout",
     "output_type": "stream",
     "text": [
      "           PatientId  AppointmentID Gender          ScheduledDay  \\\n",
      "0       2.987250e+13        5642903      F  2016-04-29T18:38:08Z   \n",
      "1       5.589978e+14        5642503      M  2016-04-29T16:08:27Z   \n",
      "2       4.262962e+12        5642549      F  2016-04-29T16:19:04Z   \n",
      "3       8.679512e+11        5642828      F  2016-04-29T17:29:31Z   \n",
      "4       8.841186e+12        5642494      F  2016-04-29T16:07:23Z   \n",
      "5       9.598513e+13        5626772      F  2016-04-27T08:36:51Z   \n",
      "6       7.336882e+14        5630279      F  2016-04-27T15:05:12Z   \n",
      "7       3.449833e+12        5630575      F  2016-04-27T15:39:58Z   \n",
      "8       5.639473e+13        5638447      F  2016-04-29T08:02:16Z   \n",
      "9       7.812456e+13        5629123      F  2016-04-27T12:48:25Z   \n",
      "10      7.345362e+14        5630213      F  2016-04-27T14:58:11Z   \n",
      "11      7.542951e+12        5620163      M  2016-04-26T08:44:12Z   \n",
      "12      5.666548e+14        5634718      F  2016-04-28T11:33:51Z   \n",
      "13      9.113946e+14        5636249      M  2016-04-28T14:52:07Z   \n",
      "14      9.988472e+13        5633951      F  2016-04-28T10:06:24Z   \n",
      "15      9.994839e+10        5620206      F  2016-04-26T08:47:27Z   \n",
      "16      8.457439e+13        5633121      M  2016-04-28T08:51:47Z   \n",
      "17      1.479497e+13        5633460      F  2016-04-28T09:28:57Z   \n",
      "18      1.713538e+13        5621836      F  2016-04-26T10:54:18Z   \n",
      "19      7.223289e+12        5640433      F  2016-04-29T10:43:14Z   \n",
      "20      6.222575e+14        5626083      F  2016-04-27T07:51:14Z   \n",
      "21      1.215484e+13        5628338      F  2016-04-27T10:50:45Z   \n",
      "22      8.632298e+14        5616091      M  2016-04-25T13:29:16Z   \n",
      "23      2.137540e+14        5634142      F  2016-04-28T10:27:05Z   \n",
      "24      8.734858e+12        5641780      F  2016-04-29T14:19:19Z   \n",
      "25      5.819370e+12        5624020      M  2016-04-26T15:04:17Z   \n",
      "26      2.578785e+10        5641781      F  2016-04-29T14:19:42Z   \n",
      "27      1.215484e+13        5628345      F  2016-04-27T10:51:45Z   \n",
      "28      5.926172e+12        5642400      M  2016-04-29T15:48:02Z   \n",
      "29      1.225776e+12        5642186      F  2016-04-29T15:16:29Z   \n",
      "...              ...            ...    ...                   ...   \n",
      "110497  7.935892e+14        5757745      M  2016-06-01T09:46:33Z   \n",
      "110498  9.433654e+13        5787655      F  2016-06-08T10:21:14Z   \n",
      "110499  8.219692e+14        5757697      F  2016-06-01T09:42:56Z   \n",
      "110500  4.434384e+14        5787233      F  2016-06-08T09:35:13Z   \n",
      "110501  4.544252e+11        5758133      M  2016-06-01T10:19:12Z   \n",
      "110502  7.316229e+14        5787937      F  2016-06-08T10:50:42Z   \n",
      "110503  2.362182e+13        5759473      F  2016-06-01T13:00:36Z   \n",
      "110504  9.947983e+12        5788052      F  2016-06-08T11:06:21Z   \n",
      "110505  5.667344e+13        5758455      F  2016-06-01T10:45:50Z   \n",
      "110506  8.973883e+11        5758779      M  2016-06-01T11:09:20Z   \n",
      "110507  4.769462e+14        5786918      F  2016-06-08T09:04:18Z   \n",
      "110508  9.433654e+13        5757656      F  2016-06-01T09:41:00Z   \n",
      "110509  4.952968e+14        5786750      M  2016-06-08T08:50:51Z   \n",
      "110510  2.362182e+13        5757587      F  2016-06-01T09:35:48Z   \n",
      "110511  8.235996e+11        5786742      F  2016-06-08T08:50:20Z   \n",
      "110512  9.876246e+13        5786368      F  2016-06-08T08:20:01Z   \n",
      "110513  8.674778e+13        5785964      M  2016-06-08T07:52:55Z   \n",
      "110514  2.695685e+12        5786567      F  2016-06-08T08:35:31Z   \n",
      "110515  6.456342e+14        5778621      M  2016-06-06T15:58:05Z   \n",
      "110516  6.923772e+13        5780205      F  2016-06-07T07:45:16Z   \n",
      "110517  5.574942e+12        5780122      F  2016-06-07T07:38:34Z   \n",
      "110518  7.263315e+13        5630375      F  2016-04-27T15:15:06Z   \n",
      "110519  6.542388e+13        5630447      F  2016-04-27T15:23:14Z   \n",
      "110520  9.969977e+14        5650534      F  2016-05-03T07:51:47Z   \n",
      "110521  3.635534e+13        5651072      F  2016-05-03T08:23:40Z   \n",
      "110522  2.572134e+12        5651768      F  2016-05-03T09:15:35Z   \n",
      "110523  3.596266e+12        5650093      F  2016-05-03T07:27:33Z   \n",
      "110524  1.557663e+13        5630692      F  2016-04-27T16:03:52Z   \n",
      "110525  9.213493e+13        5630323      F  2016-04-27T15:09:23Z   \n",
      "110526  3.775115e+14        5629448      F  2016-04-27T13:30:56Z   \n",
      "\n",
      "              AppointmentDay  Age      Neighbourhood  Scholarship  \\\n",
      "0       2016-04-29T00:00:00Z   62    JARDIM DA PENHA            0   \n",
      "1       2016-04-29T00:00:00Z   56    JARDIM DA PENHA            0   \n",
      "2       2016-04-29T00:00:00Z   62      MATA DA PRAIA            0   \n",
      "3       2016-04-29T00:00:00Z    8  PONTAL DE CAMBURI            0   \n",
      "4       2016-04-29T00:00:00Z   56    JARDIM DA PENHA            0   \n",
      "5       2016-04-29T00:00:00Z   76          REPÚBLICA            0   \n",
      "6       2016-04-29T00:00:00Z   23         GOIABEIRAS            0   \n",
      "7       2016-04-29T00:00:00Z   39         GOIABEIRAS            0   \n",
      "8       2016-04-29T00:00:00Z   21         ANDORINHAS            0   \n",
      "9       2016-04-29T00:00:00Z   19          CONQUISTA            0   \n",
      "10      2016-04-29T00:00:00Z   30     NOVA PALESTINA            0   \n",
      "11      2016-04-29T00:00:00Z   29     NOVA PALESTINA            0   \n",
      "12      2016-04-29T00:00:00Z   22     NOVA PALESTINA            1   \n",
      "13      2016-04-29T00:00:00Z   28     NOVA PALESTINA            0   \n",
      "14      2016-04-29T00:00:00Z   54     NOVA PALESTINA            0   \n",
      "15      2016-04-29T00:00:00Z   15     NOVA PALESTINA            0   \n",
      "16      2016-04-29T00:00:00Z   50     NOVA PALESTINA            0   \n",
      "17      2016-04-29T00:00:00Z   40          CONQUISTA            1   \n",
      "18      2016-04-29T00:00:00Z   30     NOVA PALESTINA            1   \n",
      "19      2016-04-29T00:00:00Z   46           DA PENHA            0   \n",
      "20      2016-04-29T00:00:00Z   30     NOVA PALESTINA            0   \n",
      "21      2016-04-29T00:00:00Z    4          CONQUISTA            0   \n",
      "22      2016-04-29T00:00:00Z   13          CONQUISTA            0   \n",
      "23      2016-04-29T00:00:00Z   46          CONQUISTA            0   \n",
      "24      2016-04-29T00:00:00Z   65         TABUAZEIRO            0   \n",
      "25      2016-04-29T00:00:00Z   46          CONQUISTA            0   \n",
      "26      2016-04-29T00:00:00Z   45     BENTO FERREIRA            0   \n",
      "27      2016-04-29T00:00:00Z    4          CONQUISTA            0   \n",
      "28      2016-04-29T00:00:00Z   51          SÃO PEDRO            0   \n",
      "29      2016-04-29T00:00:00Z   32       SANTA MARTHA            0   \n",
      "...                      ...  ...                ...          ...   \n",
      "110497  2016-06-01T00:00:00Z   76        MARIA ORTIZ            0   \n",
      "110498  2016-06-08T00:00:00Z   59        MARIA ORTIZ            0   \n",
      "110499  2016-06-01T00:00:00Z   66        MARIA ORTIZ            0   \n",
      "110500  2016-06-08T00:00:00Z   59        MARIA ORTIZ            0   \n",
      "110501  2016-06-01T00:00:00Z   44        MARIA ORTIZ            0   \n",
      "110502  2016-06-08T00:00:00Z   22         GOIABEIRAS            0   \n",
      "110503  2016-06-01T00:00:00Z   64       SOLON BORGES            0   \n",
      "110504  2016-06-08T00:00:00Z    4        MARIA ORTIZ            0   \n",
      "110505  2016-06-01T00:00:00Z   55        MARIA ORTIZ            0   \n",
      "110506  2016-06-01T00:00:00Z    5        MARIA ORTIZ            0   \n",
      "110507  2016-06-08T00:00:00Z    0        MARIA ORTIZ            0   \n",
      "110508  2016-06-01T00:00:00Z   59        MARIA ORTIZ            0   \n",
      "110509  2016-06-08T00:00:00Z   33        MARIA ORTIZ            0   \n",
      "110510  2016-06-01T00:00:00Z   64       SOLON BORGES            0   \n",
      "110511  2016-06-08T00:00:00Z   14        MARIA ORTIZ            0   \n",
      "110512  2016-06-08T00:00:00Z   41        MARIA ORTIZ            0   \n",
      "110513  2016-06-08T00:00:00Z    2    ANTÔNIO HONÓRIO            0   \n",
      "110514  2016-06-08T00:00:00Z   58        MARIA ORTIZ            0   \n",
      "110515  2016-06-08T00:00:00Z   33        MARIA ORTIZ            0   \n",
      "110516  2016-06-08T00:00:00Z   37        MARIA ORTIZ            0   \n",
      "110517  2016-06-07T00:00:00Z   19        MARIA ORTIZ            0   \n",
      "110518  2016-06-07T00:00:00Z   50        MARIA ORTIZ            0   \n",
      "110519  2016-06-07T00:00:00Z   22        MARIA ORTIZ            0   \n",
      "110520  2016-06-07T00:00:00Z   42        MARIA ORTIZ            0   \n",
      "110521  2016-06-07T00:00:00Z   53        MARIA ORTIZ            0   \n",
      "110522  2016-06-07T00:00:00Z   56        MARIA ORTIZ            0   \n",
      "110523  2016-06-07T00:00:00Z   51        MARIA ORTIZ            0   \n",
      "110524  2016-06-07T00:00:00Z   21        MARIA ORTIZ            0   \n",
      "110525  2016-06-07T00:00:00Z   38        MARIA ORTIZ            0   \n",
      "110526  2016-06-07T00:00:00Z   54        MARIA ORTIZ            0   \n",
      "\n",
      "        Hipertension  Diabetes  Alcoholism  Handcap  SMS_received No-show  \n",
      "0                  1         0           0        0             0      No  \n",
      "1                  0         0           0        0             0      No  \n",
      "2                  0         0           0        0             0      No  \n",
      "3                  0         0           0        0             0      No  \n",
      "4                  1         1           0        0             0      No  \n",
      "5                  1         0           0        0             0      No  \n",
      "6                  0         0           0        0             0     Yes  \n",
      "7                  0         0           0        0             0     Yes  \n",
      "8                  0         0           0        0             0      No  \n",
      "9                  0         0           0        0             0      No  \n",
      "10                 0         0           0        0             0      No  \n",
      "11                 0         0           0        0             1     Yes  \n",
      "12                 0         0           0        0             0      No  \n",
      "13                 0         0           0        0             0      No  \n",
      "14                 0         0           0        0             0      No  \n",
      "15                 0         0           0        0             1      No  \n",
      "16                 0         0           0        0             0      No  \n",
      "17                 0         0           0        0             0     Yes  \n",
      "18                 0         0           0        0             1      No  \n",
      "19                 0         0           0        0             0      No  \n",
      "20                 0         0           0        0             0     Yes  \n",
      "21                 0         0           0        0             0     Yes  \n",
      "22                 0         0           0        0             1     Yes  \n",
      "23                 0         0           0        0             0      No  \n",
      "24                 0         0           0        0             0      No  \n",
      "25                 1         0           0        0             1      No  \n",
      "26                 1         0           0        0             0      No  \n",
      "27                 0         0           0        0             0      No  \n",
      "28                 0         0           0        0             0      No  \n",
      "29                 0         0           0        0             0      No  \n",
      "...              ...       ...         ...      ...           ...     ...  \n",
      "110497             0         0           0        0             0      No  \n",
      "110498             0         0           0        0             0      No  \n",
      "110499             1         1           0        0             0      No  \n",
      "110500             0         0           0        0             0      No  \n",
      "110501             0         0           0        0             0      No  \n",
      "110502             0         0           0        0             0      No  \n",
      "110503             0         0           0        0             0      No  \n",
      "110504             0         0           0        0             0      No  \n",
      "110505             0         0           0        0             0      No  \n",
      "110506             0         0           0        0             0      No  \n",
      "110507             0         0           0        0             0      No  \n",
      "110508             0         0           0        0             0      No  \n",
      "110509             0         0           0        0             0      No  \n",
      "110510             0         0           0        0             0      No  \n",
      "110511             0         0           0        0             0      No  \n",
      "110512             0         0           0        0             0      No  \n",
      "110513             0         0           0        0             0      No  \n",
      "110514             0         0           0        0             0      No  \n",
      "110515             1         0           0        0             0     Yes  \n",
      "110516             0         0           0        0             0     Yes  \n",
      "110517             0         0           0        0             0      No  \n",
      "110518             0         0           0        0             1      No  \n",
      "110519             0         0           0        0             1      No  \n",
      "110520             0         0           0        0             1      No  \n",
      "110521             0         0           0        0             1      No  \n",
      "110522             0         0           0        0             1      No  \n",
      "110523             0         0           0        0             1      No  \n",
      "110524             0         0           0        0             1      No  \n",
      "110525             0         0           0        0             1      No  \n",
      "110526             0         0           0        0             1      No  \n",
      "\n",
      "[110527 rows x 14 columns]\n"
     ]
    }
   ],
   "source": [
    "appt_data = pd.read_csv('noshowappointments-kagglev2-may-2016.csv')\n",
    "#review the data\n",
    "print(appt_data)"
   ]
  },
  {
   "cell_type": "code",
   "execution_count": 63,
   "metadata": {},
   "outputs": [
    {
     "data": {
      "text/html": [
       "<div>\n",
       "<style scoped>\n",
       "    .dataframe tbody tr th:only-of-type {\n",
       "        vertical-align: middle;\n",
       "    }\n",
       "\n",
       "    .dataframe tbody tr th {\n",
       "        vertical-align: top;\n",
       "    }\n",
       "\n",
       "    .dataframe thead th {\n",
       "        text-align: right;\n",
       "    }\n",
       "</style>\n",
       "<table border=\"1\" class=\"dataframe\">\n",
       "  <thead>\n",
       "    <tr style=\"text-align: right;\">\n",
       "      <th></th>\n",
       "      <th>PatientId</th>\n",
       "      <th>AppointmentID</th>\n",
       "      <th>Gender</th>\n",
       "      <th>ScheduledDay</th>\n",
       "      <th>AppointmentDay</th>\n",
       "      <th>Age</th>\n",
       "      <th>Neighbourhood</th>\n",
       "      <th>Scholarship</th>\n",
       "      <th>Hipertension</th>\n",
       "      <th>Diabetes</th>\n",
       "      <th>Alcoholism</th>\n",
       "      <th>Handcap</th>\n",
       "      <th>SMS_received</th>\n",
       "      <th>No-show</th>\n",
       "    </tr>\n",
       "  </thead>\n",
       "  <tbody>\n",
       "    <tr>\n",
       "      <th>0</th>\n",
       "      <td>2.987250e+13</td>\n",
       "      <td>5642903</td>\n",
       "      <td>F</td>\n",
       "      <td>2016-04-29T18:38:08Z</td>\n",
       "      <td>2016-04-29T00:00:00Z</td>\n",
       "      <td>62</td>\n",
       "      <td>JARDIM DA PENHA</td>\n",
       "      <td>0</td>\n",
       "      <td>1</td>\n",
       "      <td>0</td>\n",
       "      <td>0</td>\n",
       "      <td>0</td>\n",
       "      <td>0</td>\n",
       "      <td>No</td>\n",
       "    </tr>\n",
       "    <tr>\n",
       "      <th>1</th>\n",
       "      <td>5.589978e+14</td>\n",
       "      <td>5642503</td>\n",
       "      <td>M</td>\n",
       "      <td>2016-04-29T16:08:27Z</td>\n",
       "      <td>2016-04-29T00:00:00Z</td>\n",
       "      <td>56</td>\n",
       "      <td>JARDIM DA PENHA</td>\n",
       "      <td>0</td>\n",
       "      <td>0</td>\n",
       "      <td>0</td>\n",
       "      <td>0</td>\n",
       "      <td>0</td>\n",
       "      <td>0</td>\n",
       "      <td>No</td>\n",
       "    </tr>\n",
       "    <tr>\n",
       "      <th>2</th>\n",
       "      <td>4.262962e+12</td>\n",
       "      <td>5642549</td>\n",
       "      <td>F</td>\n",
       "      <td>2016-04-29T16:19:04Z</td>\n",
       "      <td>2016-04-29T00:00:00Z</td>\n",
       "      <td>62</td>\n",
       "      <td>MATA DA PRAIA</td>\n",
       "      <td>0</td>\n",
       "      <td>0</td>\n",
       "      <td>0</td>\n",
       "      <td>0</td>\n",
       "      <td>0</td>\n",
       "      <td>0</td>\n",
       "      <td>No</td>\n",
       "    </tr>\n",
       "    <tr>\n",
       "      <th>3</th>\n",
       "      <td>8.679512e+11</td>\n",
       "      <td>5642828</td>\n",
       "      <td>F</td>\n",
       "      <td>2016-04-29T17:29:31Z</td>\n",
       "      <td>2016-04-29T00:00:00Z</td>\n",
       "      <td>8</td>\n",
       "      <td>PONTAL DE CAMBURI</td>\n",
       "      <td>0</td>\n",
       "      <td>0</td>\n",
       "      <td>0</td>\n",
       "      <td>0</td>\n",
       "      <td>0</td>\n",
       "      <td>0</td>\n",
       "      <td>No</td>\n",
       "    </tr>\n",
       "    <tr>\n",
       "      <th>4</th>\n",
       "      <td>8.841186e+12</td>\n",
       "      <td>5642494</td>\n",
       "      <td>F</td>\n",
       "      <td>2016-04-29T16:07:23Z</td>\n",
       "      <td>2016-04-29T00:00:00Z</td>\n",
       "      <td>56</td>\n",
       "      <td>JARDIM DA PENHA</td>\n",
       "      <td>0</td>\n",
       "      <td>1</td>\n",
       "      <td>1</td>\n",
       "      <td>0</td>\n",
       "      <td>0</td>\n",
       "      <td>0</td>\n",
       "      <td>No</td>\n",
       "    </tr>\n",
       "  </tbody>\n",
       "</table>\n",
       "</div>"
      ],
      "text/plain": [
       "      PatientId  AppointmentID Gender          ScheduledDay  \\\n",
       "0  2.987250e+13        5642903      F  2016-04-29T18:38:08Z   \n",
       "1  5.589978e+14        5642503      M  2016-04-29T16:08:27Z   \n",
       "2  4.262962e+12        5642549      F  2016-04-29T16:19:04Z   \n",
       "3  8.679512e+11        5642828      F  2016-04-29T17:29:31Z   \n",
       "4  8.841186e+12        5642494      F  2016-04-29T16:07:23Z   \n",
       "\n",
       "         AppointmentDay  Age      Neighbourhood  Scholarship  Hipertension  \\\n",
       "0  2016-04-29T00:00:00Z   62    JARDIM DA PENHA            0             1   \n",
       "1  2016-04-29T00:00:00Z   56    JARDIM DA PENHA            0             0   \n",
       "2  2016-04-29T00:00:00Z   62      MATA DA PRAIA            0             0   \n",
       "3  2016-04-29T00:00:00Z    8  PONTAL DE CAMBURI            0             0   \n",
       "4  2016-04-29T00:00:00Z   56    JARDIM DA PENHA            0             1   \n",
       "\n",
       "   Diabetes  Alcoholism  Handcap  SMS_received No-show  \n",
       "0         0           0        0             0      No  \n",
       "1         0           0        0             0      No  \n",
       "2         0           0        0             0      No  \n",
       "3         0           0        0             0      No  \n",
       "4         1           0        0             0      No  "
      ]
     },
     "execution_count": 63,
     "metadata": {},
     "output_type": "execute_result"
    }
   ],
   "source": [
    "appt_data.head()"
   ]
  },
  {
   "cell_type": "markdown",
   "metadata": {},
   "source": [
    "Get a quick break down of the statistic of the data"
   ]
  },
  {
   "cell_type": "code",
   "execution_count": 64,
   "metadata": {},
   "outputs": [
    {
     "data": {
      "text/html": [
       "<div>\n",
       "<style scoped>\n",
       "    .dataframe tbody tr th:only-of-type {\n",
       "        vertical-align: middle;\n",
       "    }\n",
       "\n",
       "    .dataframe tbody tr th {\n",
       "        vertical-align: top;\n",
       "    }\n",
       "\n",
       "    .dataframe thead th {\n",
       "        text-align: right;\n",
       "    }\n",
       "</style>\n",
       "<table border=\"1\" class=\"dataframe\">\n",
       "  <thead>\n",
       "    <tr style=\"text-align: right;\">\n",
       "      <th></th>\n",
       "      <th>PatientId</th>\n",
       "      <th>AppointmentID</th>\n",
       "      <th>Age</th>\n",
       "      <th>Scholarship</th>\n",
       "      <th>Hipertension</th>\n",
       "      <th>Diabetes</th>\n",
       "      <th>Alcoholism</th>\n",
       "      <th>Handcap</th>\n",
       "      <th>SMS_received</th>\n",
       "    </tr>\n",
       "  </thead>\n",
       "  <tbody>\n",
       "    <tr>\n",
       "      <th>count</th>\n",
       "      <td>1.105270e+05</td>\n",
       "      <td>1.105270e+05</td>\n",
       "      <td>110527.000000</td>\n",
       "      <td>110527.000000</td>\n",
       "      <td>110527.000000</td>\n",
       "      <td>110527.000000</td>\n",
       "      <td>110527.000000</td>\n",
       "      <td>110527.000000</td>\n",
       "      <td>110527.000000</td>\n",
       "    </tr>\n",
       "    <tr>\n",
       "      <th>mean</th>\n",
       "      <td>1.474963e+14</td>\n",
       "      <td>5.675305e+06</td>\n",
       "      <td>37.088874</td>\n",
       "      <td>0.098266</td>\n",
       "      <td>0.197246</td>\n",
       "      <td>0.071865</td>\n",
       "      <td>0.030400</td>\n",
       "      <td>0.022248</td>\n",
       "      <td>0.321026</td>\n",
       "    </tr>\n",
       "    <tr>\n",
       "      <th>std</th>\n",
       "      <td>2.560949e+14</td>\n",
       "      <td>7.129575e+04</td>\n",
       "      <td>23.110205</td>\n",
       "      <td>0.297675</td>\n",
       "      <td>0.397921</td>\n",
       "      <td>0.258265</td>\n",
       "      <td>0.171686</td>\n",
       "      <td>0.161543</td>\n",
       "      <td>0.466873</td>\n",
       "    </tr>\n",
       "    <tr>\n",
       "      <th>min</th>\n",
       "      <td>3.921784e+04</td>\n",
       "      <td>5.030230e+06</td>\n",
       "      <td>-1.000000</td>\n",
       "      <td>0.000000</td>\n",
       "      <td>0.000000</td>\n",
       "      <td>0.000000</td>\n",
       "      <td>0.000000</td>\n",
       "      <td>0.000000</td>\n",
       "      <td>0.000000</td>\n",
       "    </tr>\n",
       "    <tr>\n",
       "      <th>25%</th>\n",
       "      <td>4.172614e+12</td>\n",
       "      <td>5.640286e+06</td>\n",
       "      <td>18.000000</td>\n",
       "      <td>0.000000</td>\n",
       "      <td>0.000000</td>\n",
       "      <td>0.000000</td>\n",
       "      <td>0.000000</td>\n",
       "      <td>0.000000</td>\n",
       "      <td>0.000000</td>\n",
       "    </tr>\n",
       "    <tr>\n",
       "      <th>50%</th>\n",
       "      <td>3.173184e+13</td>\n",
       "      <td>5.680573e+06</td>\n",
       "      <td>37.000000</td>\n",
       "      <td>0.000000</td>\n",
       "      <td>0.000000</td>\n",
       "      <td>0.000000</td>\n",
       "      <td>0.000000</td>\n",
       "      <td>0.000000</td>\n",
       "      <td>0.000000</td>\n",
       "    </tr>\n",
       "    <tr>\n",
       "      <th>75%</th>\n",
       "      <td>9.439172e+13</td>\n",
       "      <td>5.725524e+06</td>\n",
       "      <td>55.000000</td>\n",
       "      <td>0.000000</td>\n",
       "      <td>0.000000</td>\n",
       "      <td>0.000000</td>\n",
       "      <td>0.000000</td>\n",
       "      <td>0.000000</td>\n",
       "      <td>1.000000</td>\n",
       "    </tr>\n",
       "    <tr>\n",
       "      <th>max</th>\n",
       "      <td>9.999816e+14</td>\n",
       "      <td>5.790484e+06</td>\n",
       "      <td>115.000000</td>\n",
       "      <td>1.000000</td>\n",
       "      <td>1.000000</td>\n",
       "      <td>1.000000</td>\n",
       "      <td>1.000000</td>\n",
       "      <td>4.000000</td>\n",
       "      <td>1.000000</td>\n",
       "    </tr>\n",
       "  </tbody>\n",
       "</table>\n",
       "</div>"
      ],
      "text/plain": [
       "          PatientId  AppointmentID            Age    Scholarship  \\\n",
       "count  1.105270e+05   1.105270e+05  110527.000000  110527.000000   \n",
       "mean   1.474963e+14   5.675305e+06      37.088874       0.098266   \n",
       "std    2.560949e+14   7.129575e+04      23.110205       0.297675   \n",
       "min    3.921784e+04   5.030230e+06      -1.000000       0.000000   \n",
       "25%    4.172614e+12   5.640286e+06      18.000000       0.000000   \n",
       "50%    3.173184e+13   5.680573e+06      37.000000       0.000000   \n",
       "75%    9.439172e+13   5.725524e+06      55.000000       0.000000   \n",
       "max    9.999816e+14   5.790484e+06     115.000000       1.000000   \n",
       "\n",
       "        Hipertension       Diabetes     Alcoholism        Handcap  \\\n",
       "count  110527.000000  110527.000000  110527.000000  110527.000000   \n",
       "mean        0.197246       0.071865       0.030400       0.022248   \n",
       "std         0.397921       0.258265       0.171686       0.161543   \n",
       "min         0.000000       0.000000       0.000000       0.000000   \n",
       "25%         0.000000       0.000000       0.000000       0.000000   \n",
       "50%         0.000000       0.000000       0.000000       0.000000   \n",
       "75%         0.000000       0.000000       0.000000       0.000000   \n",
       "max         1.000000       1.000000       1.000000       4.000000   \n",
       "\n",
       "        SMS_received  \n",
       "count  110527.000000  \n",
       "mean        0.321026  \n",
       "std         0.466873  \n",
       "min         0.000000  \n",
       "25%         0.000000  \n",
       "50%         0.000000  \n",
       "75%         1.000000  \n",
       "max         1.000000  "
      ]
     },
     "execution_count": 64,
     "metadata": {},
     "output_type": "execute_result"
    }
   ],
   "source": [
    "#Get the statistical data \n",
    "appt_data.describe()"
   ]
  },
  {
   "cell_type": "markdown",
   "metadata": {},
   "source": [
    "Check for erros in column names"
   ]
  },
  {
   "cell_type": "code",
   "execution_count": 65,
   "metadata": {},
   "outputs": [
    {
     "name": "stdout",
     "output_type": "stream",
     "text": [
      "['PatientId', 'AppointmentID', 'Gender', 'ScheduledDay', 'AppointmentDay', 'Age', 'Neighbourhood', 'Scholarship', 'Hipertension', 'Diabetes', 'Alcoholism', 'Handcap', 'SMS_received', 'No-show']\n"
     ]
    }
   ],
   "source": [
    "print(list(appt_data.columns.values)) #prints the colums names to check for spelling errors."
   ]
  },
  {
   "cell_type": "markdown",
   "metadata": {},
   "source": [
    "Age outliers "
   ]
  },
  {
   "cell_type": "code",
   "execution_count": 66,
   "metadata": {},
   "outputs": [
    {
     "name": "stdout",
     "output_type": "stream",
     "text": [
      "Age:->  [-1, 0, 1, 2, 3, 4, 5, 6, 7, 8, 9, 10, 11, 12, 13, 14, 15, 16, 17, 18, 19, 20, 21, 22, 23, 24, 25, 26, 27, 28, 29, 30, 31, 32, 33, 34, 35, 36, 37, 38, 39, 40, 41, 42, 43, 44, 45, 46, 47, 48, 49, 50, 51, 52, 53, 54, 55, 56, 57, 58, 59, 60, 61, 62, 63, 64, 65, 66, 67, 68, 69, 70, 71, 72, 73, 74, 75, 76, 77, 78, 79, 80, 81, 82, 83, 84, 85, 86, 87, 88, 89, 90, 91, 92, 93, 94, 95, 96, 97, 98, 99, 100, 102, 115]\n"
     ]
    }
   ],
   "source": [
    "print('Age:-> ',sorted(appt_data.Age.unique())) #checks for age errors"
   ]
  },
  {
   "cell_type": "markdown",
   "metadata": {},
   "source": [
    "\n",
    "\n",
    "### Clean the data and check for further erros as cleaned"
   ]
  },
  {
   "cell_type": "markdown",
   "metadata": {},
   "source": [
    "Correct column that are not named correctly "
   ]
  },
  {
   "cell_type": "code",
   "execution_count": 67,
   "metadata": {},
   "outputs": [
    {
     "name": "stdout",
     "output_type": "stream",
     "text": [
      "['PatientId', 'AppointmentID', 'Gender', 'ScheduledDay', 'AppointmentDay', 'Age', 'Neighbourhood', 'Scholarship', 'Hypertension', 'Diabetes', 'Alcoholism', 'Handicap', 'SMS_received', 'No_show']\n"
     ]
    }
   ],
   "source": [
    "\n",
    "appt_data.rename(columns = {'Hipertension': 'Hypertension',\n",
    "                'Handcap': 'Handicap','No-show':'No_show'}, inplace = True)\n",
    "print(list(appt_data.columns.values))"
   ]
  },
  {
   "cell_type": "markdown",
   "metadata": {},
   "source": [
    "Check for errors in values and value types "
   ]
  },
  {
   "cell_type": "code",
   "execution_count": 68,
   "metadata": {
    "scrolled": true
   },
   "outputs": [
    {
     "name": "stdout",
     "output_type": "stream",
     "text": [
      "Age:->  [-1, 0, 1, 2, 3, 4, 5, 6, 7, 8, 9, 10, 11, 12, 13, 14, 15, 16, 17, 18, 19, 20, 21, 22, 23, 24, 25, 26, 27, 28, 29, 30, 31, 32, 33, 34, 35, 36, 37, 38, 39, 40, 41, 42, 43, 44, 45, 46, 47, 48, 49, 50, 51, 52, 53, 54, 55, 56, 57, 58, 59, 60, 61, 62, 63, 64, 65, 66, 67, 68, 69, 70, 71, 72, 73, 74, 75, 76, 77, 78, 79, 80, 81, 82, 83, 84, 85, 86, 87, 88, 89, 90, 91, 92, 93, 94, 95, 96, 97, 98, 99, 100, 102, 115]\n",
      "Gender:-> ['F' 'M']\n",
      "Diabetes:->  [0 1]\n",
      "Alcoholism:->  [0 1]\n",
      "Hypertension:->  [1 0]\n",
      "Handicap:->  [0 1 2 3 4]\n",
      "Scholarship:->  [0 1]\n",
      "SMS Received:->  [0 1]\n",
      "No Show:->  ['No' 'Yes']\n",
      "Appointment Day:->  ['2016-04-29T00:00:00Z' '2016-05-03T00:00:00Z' '2016-05-10T00:00:00Z'\n",
      " '2016-05-17T00:00:00Z' '2016-05-24T00:00:00Z' '2016-05-31T00:00:00Z'\n",
      " '2016-05-02T00:00:00Z' '2016-05-30T00:00:00Z' '2016-05-16T00:00:00Z'\n",
      " '2016-05-04T00:00:00Z' '2016-05-19T00:00:00Z' '2016-05-12T00:00:00Z'\n",
      " '2016-05-06T00:00:00Z' '2016-05-20T00:00:00Z' '2016-05-05T00:00:00Z'\n",
      " '2016-05-13T00:00:00Z' '2016-05-09T00:00:00Z' '2016-05-25T00:00:00Z'\n",
      " '2016-05-11T00:00:00Z' '2016-05-18T00:00:00Z' '2016-05-14T00:00:00Z'\n",
      " '2016-06-02T00:00:00Z' '2016-06-03T00:00:00Z' '2016-06-06T00:00:00Z'\n",
      " '2016-06-07T00:00:00Z' '2016-06-01T00:00:00Z' '2016-06-08T00:00:00Z']\n",
      "Scheduled Day:->  ['2016-04-29T18:38:08Z' '2016-04-29T16:08:27Z' '2016-04-29T16:19:04Z' ...,\n",
      " '2016-04-27T16:03:52Z' '2016-04-27T15:09:23Z' '2016-04-27T13:30:56Z']\n"
     ]
    }
   ],
   "source": [
    "print('Age:-> ',sorted(appt_data.Age.unique()))\n",
    "print('Gender:->',appt_data.Gender.unique())\n",
    "print('Diabetes:-> ',appt_data.Diabetes.unique())\n",
    "print('Alcoholism:-> ',appt_data.Alcoholism.unique())\n",
    "print('Hypertension:-> ',appt_data.Hypertension.unique())#Hypertension\n",
    "print('Handicap:-> ',appt_data.Handicap.unique())#Handicap\n",
    "print('Scholarship:-> ',appt_data.Scholarship.unique())\n",
    "print('SMS Received:-> ',appt_data.SMS_received.unique())\n",
    "print('No Show:-> ',appt_data.No_show.unique())\n",
    "print('Appointment Day:-> ',appt_data.AppointmentDay.unique())\n",
    "print('Scheduled Day:-> ',appt_data.ScheduledDay.unique())"
   ]
  },
  {
   "cell_type": "markdown",
   "metadata": {},
   "source": [
    "Appointment day and scheduled day can be date time format to make working with data easier."
   ]
  },
  {
   "cell_type": "code",
   "execution_count": 69,
   "metadata": {
    "scrolled": true
   },
   "outputs": [
    {
     "name": "stdout",
     "output_type": "stream",
     "text": [
      "Appointment Day:->  ['2016-04-29T00:00:00.000000000' '2016-05-03T00:00:00.000000000'\n",
      " '2016-05-10T00:00:00.000000000' '2016-05-17T00:00:00.000000000'\n",
      " '2016-05-24T00:00:00.000000000' '2016-05-31T00:00:00.000000000'\n",
      " '2016-05-02T00:00:00.000000000' '2016-05-30T00:00:00.000000000'\n",
      " '2016-05-16T00:00:00.000000000' '2016-05-04T00:00:00.000000000'\n",
      " '2016-05-19T00:00:00.000000000' '2016-05-12T00:00:00.000000000'\n",
      " '2016-05-06T00:00:00.000000000' '2016-05-20T00:00:00.000000000'\n",
      " '2016-05-05T00:00:00.000000000' '2016-05-13T00:00:00.000000000'\n",
      " '2016-05-09T00:00:00.000000000' '2016-05-25T00:00:00.000000000'\n",
      " '2016-05-11T00:00:00.000000000' '2016-05-18T00:00:00.000000000'\n",
      " '2016-05-14T00:00:00.000000000' '2016-06-02T00:00:00.000000000'\n",
      " '2016-06-03T00:00:00.000000000' '2016-06-06T00:00:00.000000000'\n",
      " '2016-06-07T00:00:00.000000000' '2016-06-01T00:00:00.000000000'\n",
      " '2016-06-08T00:00:00.000000000']\n"
     ]
    }
   ],
   "source": [
    "appt_data.AppointmentDay=appt_data.AppointmentDay.apply(np.datetime64)\n",
    "print('Appointment Day:-> ',appt_data.AppointmentDay.unique())"
   ]
  },
  {
   "cell_type": "code",
   "execution_count": 70,
   "metadata": {},
   "outputs": [
    {
     "name": "stdout",
     "output_type": "stream",
     "text": [
      "Scheduled Day:->  ['2016-04-29T18:38:08.000000000' '2016-04-29T16:08:27.000000000'\n",
      " '2016-04-29T16:19:04.000000000' ..., '2016-04-27T16:03:52.000000000'\n",
      " '2016-04-27T15:09:23.000000000' '2016-04-27T13:30:56.000000000']\n"
     ]
    }
   ],
   "source": [
    "appt_data.ScheduledDay=appt_data.ScheduledDay.apply(np.datetime64)\n",
    "print('Scheduled Day:-> ',appt_data.ScheduledDay.unique())"
   ]
  },
  {
   "cell_type": "code",
   "execution_count": 71,
   "metadata": {},
   "outputs": [
    {
     "name": "stdout",
     "output_type": "stream",
     "text": [
      "Age:->  [1, 2, 3, 4, 5, 6, 7, 8, 9, 10, 11, 12, 13, 14, 15, 16, 17, 18, 19, 20, 21, 22, 23, 24, 25, 26, 27, 28, 29, 30, 31, 32, 33, 34, 35, 36, 37, 38, 39, 40, 41, 42, 43, 44, 45, 46, 47, 48, 49, 50, 51, 52, 53, 54, 55, 56, 57, 58, 59, 60, 61, 62, 63, 64, 65, 66, 67, 68, 69, 70, 71, 72, 73, 74, 75, 76, 77, 78, 79, 80, 81, 82, 83, 84, 85, 86, 87, 88, 89, 90, 91, 92, 93, 94, 95]\n"
     ]
    }
   ],
   "source": [
    "appt_data=appt_data[(appt_data.Age > 0) & (appt_data.Age < 96)]\n",
    "print('Age:-> ',sorted(appt_data.Age.unique()))"
   ]
  },
  {
   "cell_type": "markdown",
   "metadata": {},
   "source": [
    "Make day of weeks so we can use that for later review"
   ]
  },
  {
   "cell_type": "code",
   "execution_count": 72,
   "metadata": {},
   "outputs": [],
   "source": [
    "appt_data['WeekDay'] = pd.to_datetime(appt_data['AppointmentDay']).apply(lambda x: x.isoweekday())"
   ]
  },
  {
   "cell_type": "code",
   "execution_count": 73,
   "metadata": {},
   "outputs": [
    {
     "name": "stdout",
     "output_type": "stream",
     "text": [
      "WeekDay:->  [5 2 1 3 4 6]\n"
     ]
    }
   ],
   "source": [
    "print('WeekDay:-> ',appt_data.WeekDay.unique())"
   ]
  },
  {
   "cell_type": "code",
   "execution_count": 74,
   "metadata": {},
   "outputs": [],
   "source": [
    "appt_data['No_show'].replace({'No':0,'Yes':1},inplace=True)"
   ]
  },
  {
   "cell_type": "code",
   "execution_count": 75,
   "metadata": {},
   "outputs": [
    {
     "name": "stdout",
     "output_type": "stream",
     "text": [
      "[0 1]\n"
     ]
    }
   ],
   "source": [
    "print(appt_data.No_show.unique())"
   ]
  },
  {
   "cell_type": "markdown",
   "metadata": {},
   "source": [
    "<a id='eda'></a>\n",
    "## Exploratory Data Analysis\n",
    "\n",
    "\n",
    "\n",
    "### How does a text/SMS message change the percent of noshows? "
   ]
  },
  {
   "cell_type": "code",
   "execution_count": 76,
   "metadata": {},
   "outputs": [
    {
     "name": "stdout",
     "output_type": "stream",
     "text": [
      "34581\n"
     ]
    }
   ],
   "source": [
    "print(appt_data.SMS_received.sum())"
   ]
  },
  {
   "cell_type": "markdown",
   "metadata": {},
   "source": [
    "First how many people miss an appointment "
   ]
  },
  {
   "cell_type": "code",
   "execution_count": 77,
   "metadata": {},
   "outputs": [
    {
     "name": "stdout",
     "output_type": "stream",
     "text": [
      "a total of  21673  people did not show for their appointment or 20.27 %.\n",
      "79.73 % of people made it to their appointment.\n"
     ]
    }
   ],
   "source": [
    "no_show_value= appt_data['No_show'].value_counts()\n",
    "#print(no_show_value)#to test if pcount works\n",
    "no_show_percent=no_show_value[1]/no_show_value.sum()\n",
    "no_show_percent=no_show_percent*100\n",
    "#print(no_show_percent)#to test if percent works\n",
    "print('a total of ', no_show_value[1], ' people did not show for their appointment or', \n",
    "      round(no_show_percent,2),'%.')\n",
    "show_app_perc=100-no_show_percent\n",
    "print(round(show_app_perc,2), \"% of people made it to their appointment.\")\n",
    "\n"
   ]
  },
  {
   "cell_type": "code",
   "execution_count": 78,
   "metadata": {},
   "outputs": [
    {
     "name": "stdout",
     "output_type": "stream",
     "text": [
      "12105 people did not get a text message and did not show up.\n",
      "Where as 9568 people did get a text message and still did not show up.\n"
     ]
    },
    {
     "data": {
      "text/plain": [
       "<matplotlib.axes._subplots.AxesSubplot at 0x7f136d4bd278>"
      ]
     },
     "execution_count": 78,
     "metadata": {},
     "output_type": "execute_result"
    },
    {
     "data": {
      "image/png": "[encoded data removed]",
      "text/plain": [
       "<matplotlib.figure.Figure at 0x7f13a08700f0>"
      ]
     },
     "metadata": {
      "needs_background": "light"
     },
     "output_type": "display_data"
    }
   ],
   "source": [
    "did_get_sms=appt_data.groupby('SMS_received')['No_show'].sum()\n",
    "print(did_get_sms[0],'people did not get a text message and did not show up.')\n",
    "print('Where as', did_get_sms[1], 'people did get a text message and still did not show up.')\n",
    "#no_show_plot=did_get_sms.plot(kind='bar', columns=['Did not get sms','Got SMS'])\n",
    "df=pd.DataFrame({'Did not get sms':did_get_sms[0],'Got SMS': did_get_sms[1]},index=['N'])\n",
    "df.plot(kind='bar')\n",
    "\n"
   ]
  },
  {
   "cell_type": "code",
   "execution_count": 79,
   "metadata": {},
   "outputs": [
    {
     "name": "stdout",
     "output_type": "stream",
     "text": [
      "44.0 of people did get a sms message and did not show up\n",
      "55.85  of people did not get a sms message and did not show up\n"
     ]
    },
    {
     "data": {
      "image/png": "[encoded data removed]",
      "text/plain": [
       "<matplotlib.figure.Figure at 0x7f136cd29c50>"
      ]
     },
     "metadata": {},
     "output_type": "display_data"
    }
   ],
   "source": [
    "did_get_sms_no_show=did_get_sms[1]/did_get_sms.sum() *100\n",
    "print(round(did_get_sms_no_show),\"of people did get a sms message and did not show up\")\n",
    "didnt_get_sms_no_show=did_get_sms[0]/did_get_sms.sum() *100\n",
    "print(round(didnt_get_sms_no_show,2),\" of people did not get a sms message and did not show up\")\n",
    "percent_noshow_plot=did_get_sms.plot(kind='pie', labels=['Did not get sms','Got SMS'])"
   ]
  },
  {
   "cell_type": "markdown",
   "metadata": {},
   "source": [
    "<a id='eda'></a>\n",
    "## Conclusion:"
   ]
  },
  {
   "cell_type": "markdown",
   "metadata": {},
   "source": [
    "There is a slight change in the numbers of no shows that get a sms message and those who do not. However the change is not significant in anyway. "
   ]
  },
  {
   "cell_type": "markdown",
   "metadata": {},
   "source": [
    "<a id='eda'></a>\n",
    "## Does age affect howing up for scheduled appointments? "
   ]
  },
  {
   "cell_type": "markdown",
   "metadata": {},
   "source": [
    "Create a function to find the probability"
   ]
  },
  {
   "cell_type": "code",
   "execution_count": 80,
   "metadata": {},
   "outputs": [],
   "source": [
    "def probability(dataset, group_by):    \n",
    "    appt_data = pd.crosstab(index = dataset[group_by], columns = dataset['No_show']).reset_index() #No show data is set to binary 1 for true 0 for false\n",
    "    appt_data['Probability'] = appt_data[0] / (appt_data[1] + appt_data[0])\n",
    "    return appt_data[[group_by, 'Probability']]"
   ]
  },
  {
   "cell_type": "markdown",
   "metadata": {},
   "source": [
    "Use probability function to see by scatter plot where the outliers are"
   ]
  },
  {
   "cell_type": "code",
   "execution_count": 81,
   "metadata": {},
   "outputs": [
    {
     "data": {
      "image/png": "[encoded data removed]",
      "text/plain": [
       "<matplotlib.figure.Figure at 0x7f136f0f6198>"
      ]
     },
     "metadata": {
      "needs_background": "light"
     },
     "output_type": "display_data"
    }
   ],
   "source": [
    "sns.lmplot(data = probability(appt_data, 'Age'), x = 'Age', y = 'Probability', fit_reg = True)\n",
    "plt.xlim(0, 100)\n",
    "plt.title('By Age')\n",
    "plt.show()"
   ]
  },
  {
   "cell_type": "markdown",
   "metadata": {},
   "source": [
    "<a id='conclusions'></a>\n",
    "## Conclusions\n",
    "\n",
    "> *While SMS messages do not seem to have much of an affect on the no show rate. Age has a large affect on it. It seems as a paitent gets older they tend to show up to their appointments more often. \n",
    "\n",
    "## Limitations \n",
    "    * Outliers in data\n",
    "            Deleted ape greater than 0 and less then 96\n",
    "            Further we are not sure of hte selection method of the data. As an example we are unsure of if the data in biased or unbiased, and if it is a random sample or not. \n",
    "\n"
   ]
  },
  {
   "cell_type": "code",
   "execution_count": 82,
   "metadata": {},
   "outputs": [
    {
     "data": {
      "text/plain": [
       "0"
      ]
     },
     "execution_count": 82,
     "metadata": {},
     "output_type": "execute_result"
    }
   ],
   "source": [
    "from subprocess import call\n",
    "call(['python', '-m', 'nbconvert', 'Investigate_a_Dataset.ipynb'])"
   ]
  }
 ],
 "metadata": {
  "kernelspec": {
   "display_name": "Python 3",
   "language": "python",
   "name": "python3"
  },
  "language_info": {
   "codemirror_mode": {
    "name": "ipython",
    "version": 3
   },
   "file_extension": ".py",
   "mimetype": "text/x-python",
   "name": "python",
   "nbconvert_exporter": "python",
   "pygments_lexer": "ipython3",
   "version": "3.6.3"
  }
 },
 "nbformat": 4,
 "nbformat_minor": 2
}
